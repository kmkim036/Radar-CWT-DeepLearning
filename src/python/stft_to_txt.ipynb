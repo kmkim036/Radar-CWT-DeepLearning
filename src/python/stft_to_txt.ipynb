{
  "nbformat": 4,
  "nbformat_minor": 2,
  "metadata": {
    "colab": {
      "name": "stft to txt",
      "provenance": []
    },
    "kernelspec": {
      "name": "python3",
      "display_name": "Python 3.8.10 64-bit"
    },
    "language_info": {
      "name": "python",
      "version": "3.8.10"
    },
    "interpreter": {
      "hash": "31f2aee4e71d21fbe5cf8b01ff0e069b9275f58929596ceb00d14d90e3e16cd6"
    }
  },
  "cells": [
    {
      "cell_type": "code",
      "execution_count": null,
      "source": [
        "import numpy as np\n",
        "import pandas as pd\n",
        "import matplotlib.pyplot as plt\n",
        "from scipy import signal\n",
        "from scipy.fft import fft, fftshift\n",
        "import matplotlib.pyplot as plt\n",
        "\n",
        "# # need to change directory name for own PC\n",
        "\n",
        "date = 220128\n",
        "\n",
        "DirectoryPath = '/home/kmkim036/Projects/git/Radar-STFT-DeepLearning/data/' + str(date) + '/'\n",
        "\n",
        "re = 1 #(repeat)\n",
        "for human in range(1,5):\n",
        "  for motion in range(0,4):\n",
        "    if motion ==1:\n",
        "      continue\n",
        "    txt_file_name = str(date)+'_'+str(human)+'_'+str(motion)+'_stft.txt'\n",
        "    f = open(DirectoryPath + txt_file_name, 'w')\n",
        "    f.close()\n",
        "\n",
        "    IM_raw_data = []\n",
        "    RE_raw_data = []\n",
        "\n",
        "    for repeat in range(1, re + 1):\n",
        "      RE_file_name = str(date)+'_'+str(human)+'_'+str(motion)+'_'+str(repeat)+'_RE.txt'\n",
        "      IM_file_name = str(date)+'_'+str(human)+'_'+str(motion)+'_'+str(repeat)+'_IM.txt'\n",
        "      f = open(DirectoryPath + RE_file_name)\n",
        "      while True:\n",
        "        line = f.readline()\n",
        "        if not line:\n",
        "          break\n",
        "        line = line.replace('\\n', '')\n",
        "        RE_raw_data.append(int(line))\n",
        "      f.close()\n",
        "      \n",
        "      f = open(DirectoryPath + IM_file_name)\n",
        "      while True:\n",
        "        line = f.readline()\n",
        "        if not line:\n",
        "          break\n",
        "        line = line.replace('\\n', '')\n",
        "        IM_raw_data.append(int(line))\n",
        "      f.close()\n",
        "\n",
        "      complex_raw_data = []\n",
        "      for i in range(0, 1920):\n",
        "         complex_raw_data.append(complex(RE_raw_data[i], IM_raw_data[i]))\n",
        "      complex_raw_data_DC = complex_raw_data - np.mean(complex_raw_data)\n",
        "\n",
        "      N_FFT_point = 128\n",
        "      SamplingFreq = 650\n",
        "      fft_window = signal.windows.hamming(128)\n",
        "\n",
        "      freq, time, Zxx = signal.stft(x=complex_raw_data_DC, fs=SamplingFreq, window=fft_window, boundary = None, \n",
        "                      nperseg=N_FFT_point, nfft=N_FFT_point, noverlap=N_FFT_point//2)\n",
        "      abs_Zxx = np.abs(Zxx)\n",
        "      fft_Zxx = fftshift(abs_Zxx, axes=0)\n",
        "      plt.pcolormesh(time, freq, fft_Zxx, shading='gouraud')\n",
        "      plt.title('STFT Magnitude')\n",
        "      plt.ylabel('Frequency [Hz]')\n",
        "      plt.xlabel('Time [sec]')\n",
        "      plt.show()\n",
        "\n",
        "      f = open(DirectoryPath + txt_file_name,'a')\n",
        "      for j in range(0,128):\n",
        "          for k in range(0,29):\n",
        "             f.write(str(abs_Zxx[j][k])+' ')\n",
        "      f.close()\n",
        "\n",
        "\n",
        "# f,t,Sxx = signal.spectrogram(x=complex_raw_data_DC, fs=SamplingFreq, window=fft_window, return_onesided = False, mode = complex, \n",
        "#                       nperseg=N_FFT_point, nfft=N_FFT_point, noverlap=N_FFT_point/2)\n",
        "# plt.pcolormesh(t, f, Sxx)\n",
        "# print frequency domain length\n",
        "print(Zxx.shape[0])\n",
        "\n",
        "# print time domain length\n",
        "print(len(Zxx[0]))\n",
        "\n",
        "# print abs(stft result) for one frequency range\n",
        "print(abs(Zxx[0]))\n",
        "\n",
        "# plot stft image\n",
        "db_Zxx = 20 * np.log10(abs(Zxx))\n",
        "print(db_Zxx[0])\n",
        "plt.pcolormesh(time, freq, db_Zxx, shading='gouraud')\n",
        "plt.title('STFT Magnitude')\n",
        "plt.ylabel('Frequency [Hz]')\n",
        "plt.xlabel('Time [sec]')\n",
        "plt.show()"
      ],
      "outputs": [
        {
          "output_type": "error",
          "ename": "FileNotFoundError",
          "evalue": "ignored",
          "traceback": [
            "\u001b[0;31m---------------------------------------------------------------------------\u001b[0m",
            "\u001b[0;31mFileNotFoundError\u001b[0m                         Traceback (most recent call last)",
            "\u001b[0;32m<ipython-input-7-4ada330372b4>\u001b[0m in \u001b[0;36m<module>\u001b[0;34m()\u001b[0m\n\u001b[1;32m     61\u001b[0m           \u001b[0;32mfor\u001b[0m \u001b[0mk\u001b[0m \u001b[0;32min\u001b[0m \u001b[0mrange\u001b[0m\u001b[0;34m(\u001b[0m\u001b[0;36m0\u001b[0m\u001b[0;34m,\u001b[0m\u001b[0;36m29\u001b[0m\u001b[0;34m)\u001b[0m\u001b[0;34m:\u001b[0m\u001b[0;34m\u001b[0m\u001b[0;34m\u001b[0m\u001b[0m\n\u001b[1;32m     62\u001b[0m              \u001b[0mf\u001b[0m\u001b[0;34m.\u001b[0m\u001b[0mwrite\u001b[0m\u001b[0;34m(\u001b[0m\u001b[0mstr\u001b[0m\u001b[0;34m(\u001b[0m\u001b[0mabs_Zxx\u001b[0m\u001b[0;34m[\u001b[0m\u001b[0mj\u001b[0m\u001b[0;34m]\u001b[0m\u001b[0;34m[\u001b[0m\u001b[0mk\u001b[0m\u001b[0;34m]\u001b[0m\u001b[0;34m)\u001b[0m\u001b[0;34m+\u001b[0m\u001b[0;34m' '\u001b[0m\u001b[0;34m)\u001b[0m\u001b[0;34m\u001b[0m\u001b[0;34m\u001b[0m\u001b[0m\n\u001b[0;32m---> 63\u001b[0;31m       \u001b[0mf\u001b[0m\u001b[0;34m.\u001b[0m\u001b[0mclose\u001b[0m\u001b[0;34m(\u001b[0m\u001b[0;34m)\u001b[0m\u001b[0;34m\u001b[0m\u001b[0;34m\u001b[0m\u001b[0m\n\u001b[0m\u001b[1;32m     64\u001b[0m \u001b[0;34m\u001b[0m\u001b[0m\n\u001b[1;32m     65\u001b[0m \u001b[0;34m\u001b[0m\u001b[0m\n",
            "\u001b[0;31mFileNotFoundError\u001b[0m: [Errno 2] No such file or directory: '/content/drive/MyDrive/data/220128/220128_3_0_1_RE.txt'"
          ]
        }
      ],
      "metadata": {
        "colab": {
          "base_uri": "https://localhost:8080/",
          "height": 248
        },
        "id": "StTHsLGnDO0J",
        "outputId": "f12e9d9b-3d06-42da-ddb5-2f594d0d09c1"
      }
    }
  ]
}